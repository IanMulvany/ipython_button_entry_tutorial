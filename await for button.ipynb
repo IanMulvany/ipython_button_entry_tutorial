{
 "cells": [
  {
   "cell_type": "code",
   "execution_count": 1,
   "metadata": {},
   "outputs": [],
   "source": [
    "%gui asyncio\n",
    "import asyncio"
   ]
  },
  {
   "cell_type": "code",
   "execution_count": 12,
   "metadata": {},
   "outputs": [
    {
     "name": "stdout",
     "output_type": "stream",
     "text": [
      "tried to tag  one\n"
     ]
    },
    {
     "data": {
      "application/vnd.jupyter.widget-view+json": {
       "model_id": "9b796af4f2da419da9bf313afebe9233",
       "version_major": 2,
       "version_minor": 0
      },
      "text/plain": [
       "Button(style=ButtonStyle())"
      ]
     },
     "metadata": {},
     "output_type": "display_data"
    },
    {
     "name": "stdout",
     "output_type": "stream",
     "text": [
      "tried to tag  two\n",
      "tried to tag  three\n",
      "tried to tag  four\n",
      "tried to tag  five\n"
     ]
    },
    {
     "ename": "NameError",
     "evalue": "name 'attribute' is not defined",
     "output_type": "error",
     "traceback": [
      "\u001b[0;31m---------------------------------------------------------------------------\u001b[0m",
      "\u001b[0;31mStopIteration\u001b[0m                             Traceback (most recent call last)",
      "\u001b[0;32m<ipython-input-12-2fa03df4fe4d>\u001b[0m in \u001b[0;36mnext_i\u001b[0;34m(change)\u001b[0m\n\u001b[1;32m      8\u001b[0m                 \u001b[0;32mtry\u001b[0m\u001b[0;34m:\u001b[0m\u001b[0;34m\u001b[0m\u001b[0;34m\u001b[0m\u001b[0m\n\u001b[0;32m----> 9\u001b[0;31m                     \u001b[0mi\u001b[0m\u001b[0;34m.\u001b[0m\u001b[0msend\u001b[0m\u001b[0;34m(\u001b[0m\u001b[0mchange\u001b[0m\u001b[0;34m)\u001b[0m\u001b[0;34m\u001b[0m\u001b[0;34m\u001b[0m\u001b[0m\n\u001b[0m\u001b[1;32m     10\u001b[0m                 \u001b[0;32mexcept\u001b[0m \u001b[0mStopIteration\u001b[0m \u001b[0;32mas\u001b[0m \u001b[0me\u001b[0m\u001b[0;34m:\u001b[0m\u001b[0;34m\u001b[0m\u001b[0;34m\u001b[0m\u001b[0m\n",
      "\u001b[0;31mStopIteration\u001b[0m: ",
      "\nDuring handling of the above exception, another exception occurred:\n",
      "\u001b[0;31mNameError\u001b[0m                                 Traceback (most recent call last)",
      "\u001b[0;32m<ipython-input-12-2fa03df4fe4d>\u001b[0m in \u001b[0;36mnext_i\u001b[0;34m(change)\u001b[0m\n\u001b[1;32m      9\u001b[0m                     \u001b[0mi\u001b[0m\u001b[0;34m.\u001b[0m\u001b[0msend\u001b[0m\u001b[0;34m(\u001b[0m\u001b[0mchange\u001b[0m\u001b[0;34m)\u001b[0m\u001b[0;34m\u001b[0m\u001b[0;34m\u001b[0m\u001b[0m\n\u001b[1;32m     10\u001b[0m                 \u001b[0;32mexcept\u001b[0m \u001b[0mStopIteration\u001b[0m \u001b[0;32mas\u001b[0m \u001b[0me\u001b[0m\u001b[0;34m:\u001b[0m\u001b[0;34m\u001b[0m\u001b[0;34m\u001b[0m\u001b[0m\n\u001b[0;32m---> 11\u001b[0;31m                     \u001b[0mwidget\u001b[0m\u001b[0;34m.\u001b[0m\u001b[0munobserve\u001b[0m\u001b[0;34m(\u001b[0m\u001b[0mnext_i\u001b[0m\u001b[0;34m,\u001b[0m \u001b[0mattribute\u001b[0m\u001b[0;34m)\u001b[0m\u001b[0;34m\u001b[0m\u001b[0;34m\u001b[0m\u001b[0m\n\u001b[0m\u001b[1;32m     12\u001b[0m             \u001b[0mwidget\u001b[0m\u001b[0;34m.\u001b[0m\u001b[0mon_click\u001b[0m\u001b[0;34m(\u001b[0m\u001b[0mnext_i\u001b[0m\u001b[0;34m)\u001b[0m\u001b[0;34m\u001b[0m\u001b[0;34m\u001b[0m\u001b[0m\n\u001b[1;32m     13\u001b[0m             \u001b[0;31m# start the generator\u001b[0m\u001b[0;34m\u001b[0m\u001b[0;34m\u001b[0m\u001b[0;34m\u001b[0m\u001b[0m\n",
      "\u001b[0;31mNameError\u001b[0m: name 'attribute' is not defined"
     ]
    }
   ],
   "source": [
    "from functools import wraps\n",
    "def yield_for_change(widget):\n",
    "    def f(iterator):\n",
    "        @wraps(iterator)\n",
    "        def inner():\n",
    "            i = iterator()\n",
    "            def next_i(change):\n",
    "                try:\n",
    "                    i.send(change)\n",
    "                except StopIteration as e:\n",
    "                    widget.unobserve(next_i, attribute)\n",
    "            widget.on_click(next_i)\n",
    "            # start the generator\n",
    "            next(i)\n",
    "        return inner\n",
    "    return f\n",
    "\n",
    "from ipywidgets import Button\n",
    "button=Button()\n",
    "\n",
    "def on_button_clicked():\n",
    "    print(\"Button clicked.\")\n",
    "\n",
    "list_to_tag = [\"one\", \"two\", \"three\", \"four\", \"five\"]\n",
    "@yield_for_change(button)\n",
    "def f():\n",
    "    for item in list_to_tag:\n",
    "        print('tried to tag ', item)\n",
    "        x = yield\n",
    "\n",
    "f()\n",
    "button"
   ]
  },
  {
   "cell_type": "markdown",
   "metadata": {},
   "source": [
    "# try to modify the stack overflow example with a callback to another function."
   ]
  },
  {
   "cell_type": "code",
   "execution_count": 11,
   "metadata": {
    "code_folding": []
   },
   "outputs": [
    {
     "name": "stdout",
     "output_type": "stream",
     "text": [
      "tried to tag  one\n"
     ]
    },
    {
     "data": {
      "application/vnd.jupyter.widget-view+json": {
       "model_id": "f6803a35c50f4ddc9754fe9cbad043f4",
       "version_major": 2,
       "version_minor": 0
      },
      "text/plain": [
       "Button(description='wow', style=ButtonStyle())"
      ]
     },
     "metadata": {},
     "output_type": "display_data"
    },
    {
     "name": "stdout",
     "output_type": "stream",
     "text": [
      "wow\n",
      "called another function\n",
      "tried to tag  two\n",
      "wow\n",
      "called another function\n",
      "tried to tag  three\n",
      "wow\n",
      "called another function\n",
      "tried to tag  four\n"
     ]
    }
   ],
   "source": [
    "# using yield_for_change for button\n",
    "# this works for buttons, via https://stackoverflow.com/questions/55244865/pause-jupyter-notebook-widgets-waiting-for-user-input \n",
    "\n",
    "from functools import wraps\n",
    "from ipywidgets import Button\n",
    "\n",
    "def yield_for_change(widget):\n",
    "    def f(iterator):\n",
    "        @wraps(iterator)\n",
    "        def inner():\n",
    "            i = iterator()\n",
    "            def next_i(change):\n",
    "                try:\n",
    "                    i.send(change.description)\n",
    "                except StopIteration as e:\n",
    "                    widget.unobserve(next_i, attribute)\n",
    "            widget.on_click(next_i)\n",
    "            # start the generator\n",
    "            next(i)\n",
    "        return inner\n",
    "    return f\n",
    "\n",
    "button=Button(description=\"wow\")\n",
    "button_other=Button(description=\"other\")\n",
    "\n",
    "def on_button_clicked():\n",
    "    print(\"Button clicked.\")\n",
    "   \n",
    "@yield_for_change(button_other)\n",
    "def y():\n",
    "    print(\"called another function\")\n",
    "    yval = yield \n",
    "\n",
    "\n",
    "list_to_tag = [\"one\", \"two\", \"three\", \"four\", \"five\"]\n",
    "@yield_for_change(button)\n",
    "def f():\n",
    "    for item in list_to_tag:\n",
    "        print('tried to tag ', item)\n",
    "        x = yield\n",
    "        print(x)\n",
    "        if x == \"wow\":\n",
    "            button_other\n",
    "            y()\n",
    "\n",
    "f()\n",
    "button\n",
    "# button works!"
   ]
  },
  {
   "cell_type": "code",
   "execution_count": 9,
   "metadata": {
    "code_folding": [
     0
    ]
   },
   "outputs": [
    {
     "name": "stdout",
     "output_type": "stream",
     "text": [
      "did work 0\n"
     ]
    }
   ],
   "source": [
    "# yield_for_change for slider this works for a slider, from the widgets documentation \n",
    "\n",
    "from functools import wraps\n",
    "from ipywidgets import IntSlider, VBox, HTML\n",
    "\n",
    "def yield_for_change(widget, attribute):\n",
    "    \"\"\"Pause a generator to wait for a widget change event.\n",
    "\n",
    "    This is a decorator for a generator function which pauses the generator on yield\n",
    "    until the given widget attribute changes. The new value of the attribute is\n",
    "    sent to the generator and is the value of the yield.\n",
    "    \"\"\"\n",
    "    def f(iterator):\n",
    "        @wraps(iterator)\n",
    "        def inner():\n",
    "            i = iterator()\n",
    "            def next_i(change):\n",
    "                try:\n",
    "                    i.send(change.new)\n",
    "                except StopIteration as e:\n",
    "                    widget.unobserve(next_i, attribute)\n",
    "            widget.observe(next_i, attribute)\n",
    "            # start the generator\n",
    "            next(i)\n",
    "        return inner\n",
    "    return f\n",
    "\n",
    "\n",
    "slider2=IntSlider()\n",
    "\n",
    "@yield_for_change(slider2, 'value')\n",
    "def f():\n",
    "    for i in range(10):\n",
    "        print('did work %s'%i)\n",
    "        x = yield\n",
    "        print('generator function continued with value %s'%x)\n",
    "f()\n",
    "\n",
    "# slider2"
   ]
  },
  {
   "cell_type": "code",
   "execution_count": null,
   "metadata": {
    "code_folding": [
     0
    ]
   },
   "outputs": [],
   "source": [
    "def wait_for_change(widget, value):\n",
    "    future = asyncio.Future()\n",
    "    def getvalue(change):\n",
    "        # make the new value available\n",
    "        future.set_result(change.new)\n",
    "        widget.unobserve(getvalue, value)\n",
    "    widget.observe(getvalue, value)\n",
    "    return future"
   ]
  },
  {
   "cell_type": "code",
   "execution_count": 10,
   "metadata": {
    "code_folding": []
   },
   "outputs": [
    {
     "data": {
      "application/vnd.jupyter.widget-view+json": {
       "model_id": "413910c16a5c497897a9607376049195",
       "version_major": 2,
       "version_minor": 0
      },
      "text/plain": [
       "IntSlider(value=0)"
      ]
     },
     "metadata": {},
     "output_type": "display_data"
    },
    {
     "name": "stdout",
     "output_type": "stream",
     "text": [
      "tagged  one with  1\n",
      "\n",
      "going to tag  two\n",
      "tagged  two with  2\n",
      "\n",
      "going to tag  three\n",
      "tagged  three with  3\n",
      "\n",
      "going to tag  four\n",
      "tagged  four with  4\n",
      "\n",
      "going to tag  five\n",
      "tagged  five with  5\n",
      "\n"
     ]
    }
   ],
   "source": [
    "# call function using await - slider - works\n",
    "from ipywidgets import IntSlider\n",
    "import asyncio\n",
    "\n",
    "def wait_for_change(widget, value):\n",
    "    future = asyncio.Future()\n",
    "    def getvalue(change):\n",
    "        # make the new value available\n",
    "        future.set_result(change.new)\n",
    "        widget.unobserve(getvalue, value)\n",
    "    widget.observe(getvalue, value)\n",
    "    return future\n",
    "\n",
    "slider = IntSlider()\n",
    "\n",
    "list_to_tag = [\"one\", \"two\", \"three\", \"four\", \"five\"]\n",
    "\n",
    "async def f():\n",
    "    \"\"\"\n",
    "    this function has a weird effect by which the first print is missed, and \n",
    "    nothing happens until we interact with the widget, can be gotten around. \n",
    "    \"\"\"\n",
    "    for i in list_to_tag:\n",
    "        print('going to tag ', i)\n",
    "        x = await wait_for_change(slider, 'value')\n",
    "        print(\"tagged \", i, \"with  %s\"%x)\n",
    "        print(\"\")\n",
    "\n",
    "asyncio.ensure_future(f())\n",
    "slider\n",
    "#slider"
   ]
  },
  {
   "cell_type": "code",
   "execution_count": 28,
   "metadata": {
    "code_folding": [
     0
    ]
   },
   "outputs": [
    {
     "data": {
      "text/plain": [
       "<Task pending coro=<f() running at <ipython-input-28-d35736310dc7>:18>>"
      ]
     },
     "execution_count": 28,
     "metadata": {},
     "output_type": "execute_result"
    }
   ],
   "source": [
    "# call function using await - button - doesn't work\n",
    "from ipywidgets import Button\n",
    "\n",
    "def wait_for_change(widget, value):\n",
    "    future = asyncio.Future()\n",
    "    def getvalue(change):\n",
    "        # make the new value available\n",
    "        print(change)\n",
    "        future.set_result(change)\n",
    "        widget.unobserve(getvalue, value)\n",
    "    widget.on_click(getvalue)\n",
    "    return future\n",
    "\n",
    "button=Button(description=\"wow\")\n",
    "\n",
    "list_to_tag = [\"one\", \"two\", \"three\", \"four\"]\n",
    "\n",
    "async def f():\n",
    "    \"\"\"\n",
    "    this function has a weird effect by which the first print is missed, and \n",
    "    nothing happens until we interact with the widget, can be gotten around. \n",
    "    \"\"\"\n",
    "    for i in list_to_tag:\n",
    "        print('going to tag ', i)\n",
    "        x = await wait_for_change(button, 'value')\n",
    "        print(\"tagged \", i, \"with  %s\"%x)\n",
    "        print(\"\")\n",
    "asyncio.create_task(f())\n",
    "\n",
    "# button"
   ]
  },
  {
   "cell_type": "code",
   "execution_count": 35,
   "metadata": {
    "code_folding": [
     0
    ]
   },
   "outputs": [
    {
     "data": {
      "application/vnd.jupyter.widget-view+json": {
       "model_id": "d008865fa9144b419294c55d61dcbf21",
       "version_major": 2,
       "version_minor": 0
      },
      "text/plain": [
       "Button(description='wow', style=ButtonStyle())"
      ]
     },
     "metadata": {},
     "output_type": "display_data"
    },
    {
     "name": "stdout",
     "output_type": "stream",
     "text": [
      "Button(description='wow', style=ButtonStyle())\n",
      "tagged  one with  Button(description='wow', style=ButtonStyle())\n",
      "\n",
      "going to tag  two\n",
      "Button(description='wow', style=ButtonStyle())\n"
     ]
    },
    {
     "ename": "InvalidStateError",
     "evalue": "invalid state",
     "output_type": "error",
     "traceback": [
      "\u001b[0;31m---------------------------------------------------------------------------\u001b[0m",
      "\u001b[0;31mInvalidStateError\u001b[0m                         Traceback (most recent call last)",
      "\u001b[0;32m<ipython-input-35-91f47779a0d8>\u001b[0m in \u001b[0;36mgetvalue\u001b[0;34m(change)\u001b[0m\n\u001b[1;32m      7\u001b[0m         \u001b[0;31m# make the new value available\u001b[0m\u001b[0;34m\u001b[0m\u001b[0;34m\u001b[0m\u001b[0;34m\u001b[0m\u001b[0m\n\u001b[1;32m      8\u001b[0m         \u001b[0mprint\u001b[0m\u001b[0;34m(\u001b[0m\u001b[0mchange\u001b[0m\u001b[0;34m)\u001b[0m\u001b[0;34m\u001b[0m\u001b[0;34m\u001b[0m\u001b[0m\n\u001b[0;32m----> 9\u001b[0;31m         \u001b[0mfuture\u001b[0m\u001b[0;34m.\u001b[0m\u001b[0mset_result\u001b[0m\u001b[0;34m(\u001b[0m\u001b[0mchange\u001b[0m\u001b[0;34m)\u001b[0m\u001b[0;34m\u001b[0m\u001b[0;34m\u001b[0m\u001b[0m\n\u001b[0m\u001b[1;32m     10\u001b[0m         \u001b[0mwidget\u001b[0m\u001b[0;34m.\u001b[0m\u001b[0munobserve\u001b[0m\u001b[0;34m(\u001b[0m\u001b[0mgetvalue\u001b[0m\u001b[0;34m,\u001b[0m \u001b[0mvalue\u001b[0m\u001b[0;34m)\u001b[0m\u001b[0;34m\u001b[0m\u001b[0;34m\u001b[0m\u001b[0m\n\u001b[1;32m     11\u001b[0m     \u001b[0mwidget\u001b[0m\u001b[0;34m.\u001b[0m\u001b[0mon_click\u001b[0m\u001b[0;34m(\u001b[0m\u001b[0mgetvalue\u001b[0m\u001b[0;34m)\u001b[0m\u001b[0;34m\u001b[0m\u001b[0;34m\u001b[0m\u001b[0m\n",
      "\u001b[0;31mInvalidStateError\u001b[0m: invalid state"
     ]
    },
    {
     "name": "stdout",
     "output_type": "stream",
     "text": [
      "Button(description='wow', style=ButtonStyle())\n",
      "tagged  two with  Button(description='wow', style=ButtonStyle())\n",
      "\n",
      "going to tag  three\n"
     ]
    }
   ],
   "source": [
    "# call function using await - button - \n",
    "from ipywidgets import Button\n",
    "\n",
    "def wait_for_change(widget, value):\n",
    "    future = asyncio.Future()\n",
    "    def getvalue(change):\n",
    "        # make the new value available\n",
    "        print(change)\n",
    "        future.set_result(change)\n",
    "        widget.unobserve(getvalue, value)\n",
    "    widget.on_click(getvalue)\n",
    "    return future\n",
    "\n",
    "button=Button(description=\"wow\")\n",
    "\n",
    "list_to_tag = [\"one\", \"two\", \"three\", \"four\"]\n",
    "\n",
    "async def f():\n",
    "    \"\"\"\n",
    "    this function has a weird effect by which the first print is missed, and \n",
    "    nothing happens until we interact with the widget, can be gotten around. \n",
    "    \"\"\"\n",
    "    for i in list_to_tag:\n",
    "        print('going to tag ', i)\n",
    "        x = await wait_for_change(button, 'value')\n",
    "        print(\"tagged \", i, \"with  %s\"%x)\n",
    "        print(\"\")\n",
    "asyncio.create_task(f())\n",
    "\n",
    "button"
   ]
  },
  {
   "cell_type": "code",
   "execution_count": null,
   "metadata": {},
   "outputs": [],
   "source": []
  },
  {
   "cell_type": "code",
   "execution_count": null,
   "metadata": {},
   "outputs": [],
   "source": []
  }
 ],
 "metadata": {
  "kernelspec": {
   "display_name": "Python 3",
   "language": "python",
   "name": "python3"
  },
  "language_info": {
   "codemirror_mode": {
    "name": "ipython",
    "version": 3
   },
   "file_extension": ".py",
   "mimetype": "text/x-python",
   "name": "python",
   "nbconvert_exporter": "python",
   "pygments_lexer": "ipython3",
   "version": "3.7.1"
  },
  "toc": {
   "base_numbering": 1,
   "nav_menu": {},
   "number_sections": true,
   "sideBar": true,
   "skip_h1_title": false,
   "title_cell": "Table of Contents",
   "title_sidebar": "Contents",
   "toc_cell": false,
   "toc_position": {},
   "toc_section_display": true,
   "toc_window_display": false
  },
  "varInspector": {
   "cols": {
    "lenName": 16,
    "lenType": 16,
    "lenVar": 40
   },
   "kernels_config": {
    "python": {
     "delete_cmd_postfix": "",
     "delete_cmd_prefix": "del ",
     "library": "var_list.py",
     "varRefreshCmd": "print(var_dic_list())"
    },
    "r": {
     "delete_cmd_postfix": ") ",
     "delete_cmd_prefix": "rm(",
     "library": "var_list.r",
     "varRefreshCmd": "cat(var_dic_list()) "
    }
   },
   "types_to_exclude": [
    "module",
    "function",
    "builtin_function_or_method",
    "instance",
    "_Feature"
   ],
   "window_display": false
  }
 },
 "nbformat": 4,
 "nbformat_minor": 2
}
