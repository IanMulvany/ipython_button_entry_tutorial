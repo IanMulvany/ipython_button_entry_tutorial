{
 "cells": [
  {
   "cell_type": "code",
   "execution_count": 52,
   "metadata": {},
   "outputs": [
    {
     "data": {
      "application/vnd.jupyter.widget-view+json": {
       "model_id": "39ffd6b8bbef429f8eab23faf56f5241",
       "version_major": 2,
       "version_minor": 0
      },
      "text/plain": [
       "IntSlider(value=0)"
      ]
     },
     "metadata": {},
     "output_type": "display_data"
    },
    {
     "name": "stdout",
     "output_type": "stream",
     "text": [
      "tagged  one with  1\n",
      "\n",
      "going to tag  two\n",
      "tagged  two with  2\n",
      "\n",
      "going to tag  three\n",
      "tagged  three with  3\n",
      "\n",
      "going to tag  four\n",
      "tagged  four with  4\n",
      "\n",
      "going to tag  five\n",
      "tagged  five with  5\n",
      "\n"
     ]
    }
   ],
   "source": [
    "from ipywidgets import IntSlider\n",
    "import asyncio\n",
    "\n",
    "def wait_for_change(widget, value):\n",
    "    future = asyncio.Future()\n",
    "    def getvalue(change):\n",
    "        # make the new value available\n",
    "        future.set_result(change.new)\n",
    "        widget.unobserve(getvalue, value)\n",
    "    widget.observe(getvalue, value)\n",
    "    return future\n",
    "\n",
    "slider = IntSlider()\n",
    "\n",
    "list_to_tag = [\"one\", \"two\", \"three\", \"four\", \"five\"]\n",
    "\n",
    "async def f():\n",
    "    \"\"\"\n",
    "    this function has a weird effect by which the first print is missed, and \n",
    "    nothing happens until we interact with the widget, can be gotten around. \n",
    "    \"\"\"\n",
    "    for i in list_to_tag: # again, iterating through the loop \n",
    "        print('going to tag ', i)\n",
    "        x = await wait_for_change(slider, 'value') # using await, and passig a value\n",
    "        print(\"tagged \", i, \"with  %s\"%x)\n",
    "        print(\"\")\n",
    "\n",
    "asyncio.ensure_future(f())\n",
    "slider\n",
    "#slider"
   ]
  },
  {
   "cell_type": "markdown",
   "metadata": {},
   "source": [
    "Mark the Future as done and set its result.\n",
    "\n",
    "Raises a InvalidStateError error if the Future is already done."
   ]
  },
  {
   "cell_type": "code",
   "execution_count": 13,
   "metadata": {},
   "outputs": [
    {
     "data": {
      "application/vnd.jupyter.widget-view+json": {
       "model_id": "705c2b2af8be43ed855424f70ff71538",
       "version_major": 2,
       "version_minor": 0
      },
      "text/plain": [
       "IntSlider(value=0)"
      ]
     },
     "metadata": {},
     "output_type": "display_data"
    },
    {
     "name": "stdout",
     "output_type": "stream",
     "text": [
      "tagged  one with  {'name': 'value', 'old': 0, 'new': 1, 'owner': IntSlider(value=1), 'type': 'change'}\n",
      "\n",
      "going to tag  two\n",
      "tagged  two with  {'name': 'value', 'old': 1, 'new': 2, 'owner': IntSlider(value=2), 'type': 'change'}\n",
      "\n",
      "going to tag  three\n",
      "tagged  three with  {'name': 'value', 'old': 2, 'new': 3, 'owner': IntSlider(value=3), 'type': 'change'}\n",
      "\n",
      "going to tag  four\n",
      "tagged  four with  {'name': 'value', 'old': 3, 'new': 4, 'owner': IntSlider(value=4), 'type': 'change'}\n",
      "\n",
      "going to tag  five\n"
     ]
    }
   ],
   "source": [
    "from ipywidgets import IntSlider, Button\n",
    "import asyncio\n",
    "\n",
    "def wait_for_change(widget, value):\n",
    "    future = asyncio.Future()\n",
    "    def getvalue(change):\n",
    "        # make the new value available\n",
    "        future.set_result(change)\n",
    "        widget.unobserve(getvalue, value)\n",
    "    widget.observe(getvalue, value)\n",
    "    return future\n",
    "\n",
    "slider = IntSlider()\n",
    "button = Button()\n",
    "\n",
    "list_to_tag = [\"one\", \"two\", \"three\", \"four\", \"five\"]\n",
    "\n",
    "async def f():\n",
    "    \"\"\"\n",
    "    this function has a weird effect by which the first print is missed, and \n",
    "    nothing happens until we interact with the widget, can be gotten around. \n",
    "    \"\"\"\n",
    "    for item in list_to_tag: # again, iterating through the loop \n",
    "        print('going to tag ', item)\n",
    "        x = await wait_for_change(slider, 'value') # using await, and passig a value\n",
    "        print(\"tagged \", item, \"with  %s\"%x)\n",
    "        print(\"\")\n",
    "\n",
    "asyncio.ensure_future(f())\n",
    "# button\n",
    "slider"
   ]
  },
  {
   "cell_type": "code",
   "execution_count": null,
   "metadata": {},
   "outputs": [],
   "source": []
  },
  {
   "cell_type": "code",
   "execution_count": 57,
   "metadata": {},
   "outputs": [
    {
     "data": {
      "application/vnd.jupyter.widget-view+json": {
       "model_id": "05e4863db6b346c4b7fc89eb359a39e5",
       "version_major": 2,
       "version_minor": 0
      },
      "text/plain": [
       "Button(description='wow', style=ButtonStyle())"
      ]
     },
     "metadata": {},
     "output_type": "display_data"
    },
    {
     "name": "stdout",
     "output_type": "stream",
     "text": [
      "tagged  one with  wow\n",
      "\n",
      "going to tag  two\n",
      "tagged  two with  wow\n",
      "\n",
      "going to tag  three\n",
      "tagged  three with  wow\n",
      "\n",
      "going to tag  four\n",
      "tagged  four with  wow\n",
      "\n"
     ]
    }
   ],
   "source": [
    "# call function using await - button - working \n",
    "from ipywidgets import Button\n",
    "import asyncio\n",
    "\n",
    "def wait_for_change(widget):\n",
    "    future = asyncio.Future()\n",
    "    def getvalue(change):\n",
    "        # make the new value available\n",
    "        future.set_result(change.description)\n",
    "        widget.on_click(getvalue, remove=True)\n",
    "    widget.on_click(getvalue)\n",
    "    return future\n",
    "\n",
    "button=Button(description=\"wow\")\n",
    "\n",
    "list_to_tag = [\"one\", \"two\", \"three\", \"four\"]\n",
    "\n",
    "async def f():\n",
    "    \"\"\"\n",
    "    this function has a weird effect by which the first print is missed, and \n",
    "    nothing happens until we interact with the widget, can be gotten around. \n",
    "    \"\"\"\n",
    "    for i in list_to_tag:\n",
    "        print('going to tag ', i)\n",
    "        x = await wait_for_change(button)\n",
    "        print(\"tagged \", i, \"with  %s\"%x)\n",
    "        print(\"\")\n",
    "\n",
    "asyncio.create_task(f())\n",
    "button"
   ]
  },
  {
   "cell_type": "code",
   "execution_count": 53,
   "metadata": {
    "code_folding": [
     0
    ]
   },
   "outputs": [
    {
     "data": {
      "application/vnd.jupyter.widget-view+json": {
       "model_id": "5aa199882572446094848567c5182d09",
       "version_major": 2,
       "version_minor": 0
      },
      "text/plain": [
       "Button(description='wow', style=ButtonStyle())"
      ]
     },
     "metadata": {},
     "output_type": "display_data"
    },
    {
     "name": "stdout",
     "output_type": "stream",
     "text": [
      "Button(description='wow', style=ButtonStyle())\n",
      "tagged  one with  Button(description='wow', style=ButtonStyle())\n",
      "\n",
      "going to tag  two\n",
      "Button(description='wow', style=ButtonStyle())\n"
     ]
    },
    {
     "ename": "InvalidStateError",
     "evalue": "invalid state",
     "output_type": "error",
     "traceback": [
      "\u001b[0;31m---------------------------------------------------------------------------\u001b[0m",
      "\u001b[0;31mInvalidStateError\u001b[0m                         Traceback (most recent call last)",
      "\u001b[0;32m<ipython-input-53-0db8ed829c53>\u001b[0m in \u001b[0;36mgetvalue\u001b[0;34m(change)\u001b[0m\n\u001b[1;32m      7\u001b[0m         \u001b[0;31m# make the new value available\u001b[0m\u001b[0;34m\u001b[0m\u001b[0;34m\u001b[0m\u001b[0;34m\u001b[0m\u001b[0m\n\u001b[1;32m      8\u001b[0m         \u001b[0mprint\u001b[0m\u001b[0;34m(\u001b[0m\u001b[0mchange\u001b[0m\u001b[0;34m)\u001b[0m\u001b[0;34m\u001b[0m\u001b[0;34m\u001b[0m\u001b[0m\n\u001b[0;32m----> 9\u001b[0;31m         \u001b[0mfuture\u001b[0m\u001b[0;34m.\u001b[0m\u001b[0mset_result\u001b[0m\u001b[0;34m(\u001b[0m\u001b[0mchange\u001b[0m\u001b[0;34m)\u001b[0m\u001b[0;34m\u001b[0m\u001b[0;34m\u001b[0m\u001b[0m\n\u001b[0m\u001b[1;32m     10\u001b[0m         \u001b[0mwidget\u001b[0m\u001b[0;34m.\u001b[0m\u001b[0munobserve\u001b[0m\u001b[0;34m(\u001b[0m\u001b[0mgetvalue\u001b[0m\u001b[0;34m,\u001b[0m \u001b[0mvalue\u001b[0m\u001b[0;34m)\u001b[0m\u001b[0;34m\u001b[0m\u001b[0;34m\u001b[0m\u001b[0m\n\u001b[1;32m     11\u001b[0m     \u001b[0mwidget\u001b[0m\u001b[0;34m.\u001b[0m\u001b[0mon_click\u001b[0m\u001b[0;34m(\u001b[0m\u001b[0mgetvalue\u001b[0m\u001b[0;34m)\u001b[0m\u001b[0;34m\u001b[0m\u001b[0;34m\u001b[0m\u001b[0m\n",
      "\u001b[0;31mInvalidStateError\u001b[0m: invalid state"
     ]
    },
    {
     "name": "stdout",
     "output_type": "stream",
     "text": [
      "Button(description='wow', style=ButtonStyle())\n",
      "tagged  two with  Button(description='wow', style=ButtonStyle())\n",
      "\n",
      "going to tag  three\n"
     ]
    }
   ],
   "source": [
    "# call function using await - button - \n",
    "from ipywidgets import Button\n",
    "\n",
    "def wait_for_change(widget, value):\n",
    "    future = asyncio.Future()\n",
    "    def getvalue(change):\n",
    "        # make the new value available\n",
    "        print(change)\n",
    "        future.set_result(change)\n",
    "        widget.unobserve(getvalue, value)\n",
    "    widget.on_click(getvalue)\n",
    "    return future\n",
    "\n",
    "button=Button(description=\"wow\")\n",
    "\n",
    "list_to_tag = [\"one\", \"two\", \"three\", \"four\"]\n",
    "\n",
    "async def f():\n",
    "    \"\"\"\n",
    "    this function has a weird effect by which the first print is missed, and \n",
    "    nothing happens until we interact with the widget, can be gotten around. \n",
    "    \"\"\"\n",
    "    for i in list_to_tag:\n",
    "        print('going to tag ', i)\n",
    "        x = await wait_for_change(button, 'value')\n",
    "        print(\"tagged \", i, \"with  %s\"%x)\n",
    "        print(\"\")\n",
    "asyncio.create_task(f())\n",
    "button"
   ]
  },
  {
   "cell_type": "code",
   "execution_count": 60,
   "metadata": {
    "scrolled": true
   },
   "outputs": [],
   "source": [
    "# call function using await - button - working \n",
    "from ipywidgets import interactive\n",
    "from IPython.display import display, Markdown, clear_output\n",
    "import ipywidgets as widgets\n",
    "from ipywidgets import widgets, Layout, Button\n",
    "\n",
    "def set_buttons(button_labels):\n",
    "    buttons = []\n",
    "    for index, opt in  enumerate(button_labels):\n",
    "        buttons.append(Button(description = opt))\n",
    "    return buttons\n",
    "\n",
    "def wait_for_change(widgets):\n",
    "    future = asyncio.Future()\n",
    "    def getvalue(change):\n",
    "        # make the new value available\n",
    "        future.set_result(change.description)\n",
    "        for widget in widgets:\n",
    "            widget.on_click(getvalue, remove=True)\n",
    "    for widget in widgets:\n",
    "        widget.on_click(getvalue)\n",
    "    return future\n",
    "\n",
    "button=Button(description=\"wow\")\n",
    "\n",
    "list_to_tag = [\"one\", \"two\", \"three\", \"four\", \"five\"]\n",
    "\n",
    "tags = [\"a\", \"b\", \"c\"]\n",
    "buttons = set_buttons(tags)\n",
    "\n",
    "async def f():\n",
    "    \"\"\"\n",
    "    this function has a weird effect by which the first print is missed, and \n",
    "    nothing happens until we interact with the widget, can be gotten around. \n",
    "    \"\"\"\n",
    "    for i in list_to_tag:\n",
    "        print('going to tag ', i)\n",
    "        x = await wait_for_change(buttons)\n",
    "        print(\"tagged \", i, \"with  %s\"%x)\n",
    "        print(\"\")"
   ]
  },
  {
   "cell_type": "code",
   "execution_count": 63,
   "metadata": {},
   "outputs": [
    {
     "name": "stdout",
     "output_type": "stream",
     "text": [
      "\n"
     ]
    },
    {
     "data": {
      "text/plain": [
       "'one'"
      ]
     },
     "metadata": {},
     "output_type": "display_data"
    },
    {
     "data": {
      "application/vnd.jupyter.widget-view+json": {
       "model_id": "5a7d909077e747e38b852d6451278342",
       "version_major": 2,
       "version_minor": 0
      },
      "text/plain": [
       "VBox(children=(Output(), Button(description='a', style=ButtonStyle()), Button(description='b', style=ButtonSty…"
      ]
     },
     "metadata": {},
     "output_type": "display_data"
    },
    {
     "name": "stdout",
     "output_type": "stream",
     "text": [
      "tagged  four with  a\n",
      "\n",
      "going to tag  five\n",
      "tagged  one with  b\n",
      "\n",
      "going to tag  two\n",
      "tagged  five with  c\n",
      "\n",
      "tagged  two with  b\n",
      "\n",
      "going to tag  three\n",
      "tagged  three with  a\n",
      "\n",
      "going to tag  four\n"
     ]
    }
   ],
   "source": [
    "asyncio.create_task(f())\n",
    "display_area = widgets.Output()\n",
    "layout = [] \n",
    "layout.append(display_area)\n",
    "layout.extend(buttons)\n",
    "info_pane = widgets.VBox(layout,layout=Layout(border=\"2px solid grey\"))\n",
    "display(list_to_tag[0])\n",
    "display(info_pane)"
   ]
  },
  {
   "cell_type": "code",
   "execution_count": 81,
   "metadata": {},
   "outputs": [],
   "source": [
    "spends = [\n",
    "    [\"costa - 3.95\", \"costa - 4.95\", \"starbucks - 2.95\"],\n",
    "    [\"sainsburies - 34.95\", \"sainsburies - 12.95\", \"tesco - 24.95\"],\n",
    "    [\"BT - 34.95\", \"BT - 12.95\", \"BT - 24.95\"],\n",
    "    [\"sainsburies - 34.95\", \"sainsburies - 12.95\", \"tesco - 24.95\"],\n",
    "    [\"iTunes - 2.95\", \"iTunes - 3.95\", \"Amazon - 5.95\"],\n",
    "    [\"costa - 3.95\", \"iTunes - 2.95\", \"costa - 4.95\", \"starbucks - 2.95\", \"costa - 3.95\"]\n",
    "]\n",
    "\n"
   ]
  },
  {
   "cell_type": "code",
   "execution_count": 127,
   "metadata": {},
   "outputs": [],
   "source": [
    "# call function using await - button - working \n",
    "from ipywidgets import interactive\n",
    "from IPython.display import display, Markdown, clear_output\n",
    "import ipywidgets as widgets\n",
    "from ipywidgets import widgets, Layout, Button\n",
    "\n",
    "def set_buttons(button_labels):\n",
    "    buttons = []\n",
    "    for index, opt in  enumerate(button_labels):\n",
    "        buttons.append(Button(description = opt))\n",
    "    return buttons\n",
    "\n",
    "def wait_for_change(widgets):\n",
    "    future = asyncio.Future()\n",
    "    def getvalue(change):\n",
    "        # make the new value available\n",
    "        future.set_result(change.description)\n",
    "        for widget in widgets:\n",
    "            widget.on_click(getvalue, remove=True)\n",
    "    for widget in widgets:\n",
    "        widget.on_click(getvalue)\n",
    "    return future\n",
    "\n",
    "async def f(list_to_tag, data_tags, control_tags):\n",
    "    \"\"\"\n",
    "    this function has a weird effect by which the first print is missed, and \n",
    "    nothing happens until we interact with the widget, can be gotten around. \n",
    "    \"\"\"\n",
    "    \n",
    "    data_buttons = set_buttons(data_tags)\n",
    "    control_buttons = set_buttons(control_tags)\n",
    "    all_buttons = data_buttons + control_buttons\n",
    "\n",
    "    display_area = widgets.Output()\n",
    "    layout = [] \n",
    "\n",
    "    layout.append(display_area)\n",
    "    layout.extend(data_buttons)\n",
    "    info_pane = widgets.VBox(layout,layout=Layout(border=\"1px solid grey\"))\n",
    "    control_buttons_view = widgets.HBox(control_buttons)\n",
    "\n",
    "    message = list_to_tag[0]\n",
    "    display(message)\n",
    "    display(info_pane)\n",
    "    display(control_buttons_view)\n",
    "    \n",
    "    for i in list_to_tag:\n",
    "        clear_output()\n",
    "        display(message)\n",
    "        display(info_pane)\n",
    "        display(control_buttons_view)\n",
    "        print(\"please tag: \", i)\n",
    "        x = await wait_for_change(all_buttons)\n",
    "        if x == \"c\":\n",
    "            with display_area:\n",
    "                secondary_list = [\"cow\", \"sheep\", \"finch\", \"sparrow\", \"dog\"]\n",
    "                print(\"in second list\")\n",
    "                print(\"second options are\")\n",
    "                second_buttons = set_buttons(secondary_tags)\n",
    "                second_buttons_display = widgets.HBox(second_buttons)\n",
    "                display(second_buttons_display)\n",
    "                for item in secondary_list:\n",
    "                    y = await wait_for_change(second_buttons)\n",
    "                    print(y)\n",
    "        print(\"tagged \", i, \"with  %s\"%x)\n",
    "        print(\"\")"
   ]
  },
  {
   "cell_type": "code",
   "execution_count": 128,
   "metadata": {
    "scrolled": true
   },
   "outputs": [
    {
     "data": {
      "text/plain": [
       "['costa - 3.95', 'costa - 4.95', 'starbucks - 2.95']"
      ]
     },
     "metadata": {},
     "output_type": "display_data"
    },
    {
     "data": {
      "application/vnd.jupyter.widget-view+json": {
       "model_id": "5305e66452634dcba4e3c968ca36ec49",
       "version_major": 2,
       "version_minor": 0
      },
      "text/plain": [
       "VBox(children=(Output(), Button(description='coffee', style=ButtonStyle()), Button(description='groceries', st…"
      ]
     },
     "metadata": {},
     "output_type": "display_data"
    },
    {
     "data": {
      "application/vnd.jupyter.widget-view+json": {
       "model_id": "12f16c79fbcf408bb8c24b2ce1135748",
       "version_major": 2,
       "version_minor": 0
      },
      "text/plain": [
       "HBox(children=(Button(description='stop', style=ButtonStyle()), Button(description='skip', style=ButtonStyle()…"
      ]
     },
     "metadata": {},
     "output_type": "display_data"
    }
   ],
   "source": [
    "control_tags = [\"stop\", \"skip\", \"split\"]\n",
    "data_tags = [\"coffee\", \"groceries\", \"bills\", \"movies\"]\n",
    "asyncio.create_task(f(spends, data_tags, control_tags))"
   ]
  },
  {
   "cell_type": "code",
   "execution_count": null,
   "metadata": {},
   "outputs": [],
   "source": []
  }
 ],
 "metadata": {
  "kernelspec": {
   "display_name": "Python 3",
   "language": "python",
   "name": "python3"
  },
  "language_info": {
   "codemirror_mode": {
    "name": "ipython",
    "version": 3
   },
   "file_extension": ".py",
   "mimetype": "text/x-python",
   "name": "python",
   "nbconvert_exporter": "python",
   "pygments_lexer": "ipython3",
   "version": "3.7.1"
  },
  "toc": {
   "base_numbering": 1,
   "nav_menu": {},
   "number_sections": true,
   "sideBar": true,
   "skip_h1_title": false,
   "title_cell": "Table of Contents",
   "title_sidebar": "Contents",
   "toc_cell": false,
   "toc_position": {},
   "toc_section_display": true,
   "toc_window_display": false
  },
  "varInspector": {
   "cols": {
    "lenName": 16,
    "lenType": 16,
    "lenVar": 40
   },
   "kernels_config": {
    "python": {
     "delete_cmd_postfix": "",
     "delete_cmd_prefix": "del ",
     "library": "var_list.py",
     "varRefreshCmd": "print(var_dic_list())"
    },
    "r": {
     "delete_cmd_postfix": ") ",
     "delete_cmd_prefix": "rm(",
     "library": "var_list.r",
     "varRefreshCmd": "cat(var_dic_list()) "
    }
   },
   "types_to_exclude": [
    "module",
    "function",
    "builtin_function_or_method",
    "instance",
    "_Feature"
   ],
   "window_display": false
  }
 },
 "nbformat": 4,
 "nbformat_minor": 2
}
